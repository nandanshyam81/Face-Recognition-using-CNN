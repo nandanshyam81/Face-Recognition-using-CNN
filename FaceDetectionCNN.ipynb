{
 "cells": [
  {
   "cell_type": "markdown",
   "id": "ec8e168b",
   "metadata": {},
   "source": [
    "# importing Data set and Data preparation through Data Generator"
   ]
  },
  {
   "cell_type": "code",
   "execution_count": 19,
   "id": "f7ea6784",
   "metadata": {},
   "outputs": [
    {
     "name": "stdout",
     "output_type": "stream",
     "text": [
      "Found 451 images belonging to 5 classes.\n",
      "Found 25 images belonging to 5 classes.\n"
     ]
    },
    {
     "data": {
      "text/plain": [
       "{'ben_afflek': 0,\n",
       " 'elton_john': 1,\n",
       " 'jerry_seinfeld': 2,\n",
       " 'madonna': 3,\n",
       " 'mindy_kaling': 4}"
      ]
     },
     "execution_count": 19,
     "metadata": {},
     "output_type": "execute_result"
    }
   ],
   "source": [
    "\n",
    "TrainingImagePath='C:\\\\Users\\\\SHYAM\\\\face_data_\\\\train'\n",
    " \n",
    "from keras.preprocessing.image import ImageDataGenerator\n",
    "\n",
    "train_datagen = ImageDataGenerator(\n",
    "        shear_range=0.1,\n",
    "        zoom_range=0.1,\n",
    "        horizontal_flip=True)\n",
    " \n",
    "\n",
    "test_datagen = ImageDataGenerator()\n",
    " \n",
    "# Generating the Training Data\n",
    "training_set = train_datagen.flow_from_directory(\n",
    "        TrainingImagePath,\n",
    "        target_size=(64, 64),\n",
    "        batch_size=32,\n",
    "        class_mode='categorical')\n",
    " \n",
    "TestingImagePath='C:\\\\Users\\\\SHYAM\\\\face_data_\\\\val'\n",
    "# Generating the Testing Data\n",
    "test_set = test_datagen.flow_from_directory(\n",
    "        TestingImagePath,\n",
    "        target_size=(64, 64),\n",
    "        batch_size=32,\n",
    "        class_mode='categorical')\n",
    " \n",
    "# Printing class labels for each face\n",
    "test_set.class_indices"
   ]
  },
  {
   "cell_type": "markdown",
   "id": "959a8d2f",
   "metadata": {},
   "source": [
    "# calculating number of class present in image to make it as an output neuron"
   ]
  },
  {
   "cell_type": "code",
   "execution_count": 20,
   "id": "59797c0b",
   "metadata": {},
   "outputs": [
    {
     "name": "stdout",
     "output_type": "stream",
     "text": [
      "Mapping of Face and its ID {0: 'ben_afflek', 1: 'elton_john', 2: 'jerry_seinfeld', 3: 'madonna', 4: 'mindy_kaling'}\n",
      "\n",
      " The Number of output neurons:  5\n"
     ]
    }
   ],
   "source": [
    "\n",
    "TrainClasses=training_set.class_indices\n",
    " \n",
    "\n",
    "ResultMap={}\n",
    "for faceValue,faceName in zip(TrainClasses.values(),TrainClasses.keys()):\n",
    "    ResultMap[faceValue]=faceName\n",
    "\n",
    "\n",
    "print(\"Mapping of Face and its ID\",ResultMap)\n",
    " \n",
    "\n",
    "OutputNeurons=len(ResultMap)\n",
    "print('\\n The Number of output neurons: ', OutputNeurons)"
   ]
  },
  {
   "cell_type": "markdown",
   "id": "c718e3c1",
   "metadata": {},
   "source": [
    "#  extracting import feauters using CNN"
   ]
  },
  {
   "cell_type": "code",
   "execution_count": 21,
   "id": "000d650f",
   "metadata": {
    "scrolled": false
   },
   "outputs": [
    {
     "name": "stdout",
     "output_type": "stream",
     "text": [
      "Epoch 1/40\n",
      "15/15 [==============================] - ETA: 0s - loss: 44.9420 - accuracy: 0.2616WARNING:tensorflow:Your input ran out of data; interrupting training. Make sure that your dataset or generator can generate at least `steps_per_epoch * epochs` batches (in this case, 6 batches). You may need to use the repeat() function when building your dataset.\n",
      "15/15 [==============================] - 13s 789ms/step - loss: 44.9420 - accuracy: 0.2616 - val_loss: 1.5590 - val_accuracy: 0.1600\n",
      "Epoch 2/40\n",
      "15/15 [==============================] - 11s 741ms/step - loss: 1.5531 - accuracy: 0.2661\n",
      "Epoch 3/40\n",
      "15/15 [==============================] - 11s 702ms/step - loss: 1.4739 - accuracy: 0.3171\n",
      "Epoch 4/40\n",
      "15/15 [==============================] - 11s 692ms/step - loss: 1.4011 - accuracy: 0.3947\n",
      "Epoch 5/40\n",
      "15/15 [==============================] - 11s 701ms/step - loss: 1.3489 - accuracy: 0.4257\n",
      "Epoch 6/40\n",
      "15/15 [==============================] - 11s 718ms/step - loss: 1.3049 - accuracy: 0.4900\n",
      "Epoch 7/40\n",
      "15/15 [==============================] - 11s 710ms/step - loss: 1.2318 - accuracy: 0.5455\n",
      "Epoch 8/40\n",
      "15/15 [==============================] - 11s 703ms/step - loss: 1.0607 - accuracy: 0.6075\n",
      "Epoch 9/40\n",
      "15/15 [==============================] - 11s 714ms/step - loss: 1.0227 - accuracy: 0.6142\n",
      "Epoch 10/40\n",
      "15/15 [==============================] - 11s 712ms/step - loss: 0.9411 - accuracy: 0.6563\n",
      "Epoch 11/40\n",
      "15/15 [==============================] - 12s 790ms/step - loss: 0.8693 - accuracy: 0.6608\n",
      "Epoch 12/40\n",
      "15/15 [==============================] - 12s 774ms/step - loss: 0.7943 - accuracy: 0.6741\n",
      "Epoch 13/40\n",
      "15/15 [==============================] - 13s 868ms/step - loss: 0.7195 - accuracy: 0.7361\n",
      "Epoch 14/40\n",
      "15/15 [==============================] - 13s 851ms/step - loss: 0.6210 - accuracy: 0.7827\n",
      "Epoch 15/40\n",
      "15/15 [==============================] - 12s 763ms/step - loss: 0.4953 - accuracy: 0.8160\n",
      "Epoch 16/40\n",
      "15/15 [==============================] - 12s 805ms/step - loss: 0.5378 - accuracy: 0.8137\n",
      "Epoch 17/40\n",
      "15/15 [==============================] - 13s 829ms/step - loss: 0.4775 - accuracy: 0.8337\n",
      "Epoch 18/40\n",
      "15/15 [==============================] - 15s 1s/step - loss: 0.4302 - accuracy: 0.8315\n",
      "Epoch 19/40\n",
      "15/15 [==============================] - 11s 721ms/step - loss: 0.3733 - accuracy: 0.8714\n",
      "Epoch 20/40\n",
      "15/15 [==============================] - 12s 817ms/step - loss: 0.4159 - accuracy: 0.8537\n",
      "Epoch 21/40\n",
      "15/15 [==============================] - 13s 864ms/step - loss: 0.3388 - accuracy: 0.8714\n",
      "Epoch 22/40\n",
      "15/15 [==============================] - 11s 715ms/step - loss: 0.3101 - accuracy: 0.8891\n",
      "Epoch 23/40\n",
      "15/15 [==============================] - 11s 704ms/step - loss: 0.3114 - accuracy: 0.9024\n",
      "Epoch 24/40\n",
      "15/15 [==============================] - 11s 725ms/step - loss: 0.1952 - accuracy: 0.9268\n",
      "Epoch 25/40\n",
      "15/15 [==============================] - 11s 776ms/step - loss: 0.1697 - accuracy: 0.9401\n",
      "Epoch 26/40\n",
      "15/15 [==============================] - 11s 727ms/step - loss: 0.2097 - accuracy: 0.9268\n",
      "Epoch 27/40\n",
      "15/15 [==============================] - 11s 753ms/step - loss: 0.1340 - accuracy: 0.9579\n",
      "Epoch 28/40\n",
      "15/15 [==============================] - 12s 772ms/step - loss: 0.1449 - accuracy: 0.9623\n",
      "Epoch 29/40\n",
      "15/15 [==============================] - 11s 735ms/step - loss: 0.0720 - accuracy: 0.9778\n",
      "Epoch 30/40\n",
      "15/15 [==============================] - 11s 698ms/step - loss: 0.1117 - accuracy: 0.9734\n",
      "Epoch 31/40\n",
      "15/15 [==============================] - 12s 773ms/step - loss: 0.1273 - accuracy: 0.9490\n",
      "Epoch 32/40\n",
      "15/15 [==============================] - 12s 783ms/step - loss: 0.1543 - accuracy: 0.9557\n",
      "Epoch 33/40\n",
      "15/15 [==============================] - 11s 748ms/step - loss: 0.2222 - accuracy: 0.9290\n",
      "Epoch 34/40\n",
      "15/15 [==============================] - 12s 776ms/step - loss: 0.1623 - accuracy: 0.9401\n",
      "Epoch 35/40\n",
      "15/15 [==============================] - 12s 807ms/step - loss: 0.1853 - accuracy: 0.9357\n",
      "Epoch 36/40\n",
      "15/15 [==============================] - 11s 704ms/step - loss: 0.1751 - accuracy: 0.9224\n",
      "Epoch 37/40\n",
      "15/15 [==============================] - 11s 702ms/step - loss: 0.1706 - accuracy: 0.9468\n",
      "Epoch 38/40\n",
      "15/15 [==============================] - 11s 718ms/step - loss: 0.1421 - accuracy: 0.9579\n",
      "Epoch 39/40\n",
      "15/15 [==============================] - 11s 753ms/step - loss: 0.1252 - accuracy: 0.9579\n",
      "Epoch 40/40\n",
      "15/15 [==============================] - 11s 704ms/step - loss: 0.1061 - accuracy: 0.9712\n",
      "###### Total Time Taken:  8 Minutes ######\n"
     ]
    }
   ],
   "source": [
    "from keras.models import Sequential\n",
    "from keras.layers import Convolution2D\n",
    "from keras.layers import MaxPool2D\n",
    "from keras.layers import Flatten\n",
    "from keras.layers import Dense,Dropout\n",
    " \n",
    "\n",
    "classifier= Sequential()\n",
    " \n",
    "\n",
    "classifier.add(Convolution2D(32, kernel_size=(5, 5), strides=(1, 1), input_shape=(64,64,3), activation='relu'))\n",
    "classifier.add(MaxPool2D(pool_size=(2,2)))\n",
    "classifier.add(Convolution2D(64, kernel_size=(5, 5), strides=(1, 1), activation='relu'))\n",
    "classifier.add(MaxPool2D(pool_size=(2,2)))\n",
    "classifier.add(Flatten())\n",
    "classifier.add(Dense(64, activation='relu'))\n",
    "classifier.add(Dense(OutputNeurons, activation='softmax'))\n",
    "#classifier.compile(loss='binary_crossentropy', optimizer='adam', metrics=['accuracy'])\n",
    "classifier.compile(loss='categorical_crossentropy', optimizer = 'adam', metrics=[\"accuracy\"])\n",
    " \n",
    "###########################################################\n",
    "import time\n",
    "# Measuring the time taken by the model to train\n",
    "StartTime=time.time()\n",
    " \n",
    "# Starting the model training\n",
    "classifier.fit(\n",
    "                    training_set,\n",
    "                    epochs=40,\n",
    "                    validation_data=test_set,\n",
    "                    validation_steps=6)\n",
    " \n",
    "EndTime=time.time()\n",
    "print(\"###### Total Time Taken: \", round((EndTime-StartTime)/60), 'Minutes ######')\n",
    "\n"
   ]
  },
  {
   "cell_type": "code",
   "execution_count": 22,
   "id": "daf4dcb4",
   "metadata": {},
   "outputs": [],
   "source": [
    "import os"
   ]
  },
  {
   "cell_type": "markdown",
   "id": "36c11a97",
   "metadata": {},
   "source": [
    "# Making  predictions '''"
   ]
  },
  {
   "cell_type": "code",
   "execution_count": 23,
   "id": "321599de",
   "metadata": {},
   "outputs": [
    {
     "name": "stdout",
     "output_type": "stream",
     "text": [
      "Prediction is:  [0, 0, 0, 0, 0, 0, 0, 3, 0, 3, 3, 1, 1, 1, 1, 1, 4, 3, 1, 3, 3, 2, 2, 2, 2, 2, 2, 2, 0, 1, 3, 3, 3, 3, 3, 3, 1, 1, 1, 1, 2, 4, 4, 4, 4, 4, 3, 4, 4, 4, 4]\n",
      "original is:  [0, 0, 0, 0, 0, 0, 0, 0, 0, 0, 0, 1, 1, 1, 1, 1, 1, 1, 1, 1, 1, 2, 2, 2, 2, 2, 2, 2, 2, 2, 2, 3, 3, 3, 3, 3, 3, 3, 3, 3, 3, 4, 4, 4, 4, 4, 4, 4, 4, 4, 4]\n"
     ]
    }
   ],
   "source": [
    "\n",
    "\n",
    "import numpy as np\n",
    "from keras.preprocessing import image\n",
    "from tensorflow.keras.utils import load_img\n",
    "from tensorflow.keras.utils import img_to_array\n",
    "\n",
    "ImagePath='C:\\\\Users\\\\SHYAM\\\\face_data_\\\\test'\n",
    "dir_list = os.listdir(ImagePath)\n",
    "level=-1\n",
    "level_img=[]\n",
    "predicted_lev=[]\n",
    "for i in dir_list:\n",
    "    newpath=ImagePath+\"\\\\\"+i\n",
    "    new_dir=os.listdir(newpath)\n",
    "    level+=1\n",
    "    new_dir\n",
    "    \n",
    "    for j in new_dir:\n",
    "        level_img.append(level)\n",
    "        Impath=newpath+\"\\\\\"+j\n",
    "        test_image=load_img(Impath,target_size=(64, 64))\n",
    "        test_image=img_to_array(test_image)\n",
    " \n",
    "        test_image=np.expand_dims(test_image,axis=0)\n",
    " \n",
    "        result=classifier.predict(test_image,verbose=0)\n",
    "        predicted_lev.append(np.argmax(result))\n",
    "\n",
    " \n",
    "\n",
    " \n",
    "print('Prediction is: ',predicted_lev)\n",
    "    \n",
    "\n",
    "print('original is: ',level_img)\n",
    "\n",
    "\n",
    "    "
   ]
  },
  {
   "cell_type": "code",
   "execution_count": 24,
   "id": "a9bc38bc",
   "metadata": {},
   "outputs": [
    {
     "data": {
      "text/plain": [
       "0.6862745098039216"
      ]
     },
     "execution_count": 24,
     "metadata": {},
     "output_type": "execute_result"
    }
   ],
   "source": [
    "from sklearn.metrics import precision_score,accuracy_score,confusion_matrix,classification_report\n",
    "  \n",
    "accuracy_score(predicted_lev,level_img)"
   ]
  },
  {
   "cell_type": "code",
   "execution_count": 25,
   "id": "0eec6af7",
   "metadata": {},
   "outputs": [],
   "source": [
    "import seaborn as sn\n"
   ]
  },
  {
   "cell_type": "code",
   "execution_count": 26,
   "id": "c225224b",
   "metadata": {},
   "outputs": [
    {
     "name": "stdout",
     "output_type": "stream",
     "text": [
      "              precision    recall  f1-score   support\n",
      "\n",
      "           0       0.89      0.73      0.80        11\n",
      "           1       0.55      0.60      0.57        10\n",
      "           2       0.88      0.70      0.78        10\n",
      "           3       0.38      0.50      0.43        10\n",
      "           4       0.90      0.90      0.90        10\n",
      "\n",
      "    accuracy                           0.69        51\n",
      "   macro avg       0.72      0.69      0.70        51\n",
      "weighted avg       0.72      0.69      0.70        51\n",
      "\n"
     ]
    }
   ],
   "source": [
    "print(classification_report(level_img,predicted_lev))"
   ]
  },
  {
   "cell_type": "code",
   "execution_count": 27,
   "id": "f7b7d6e6",
   "metadata": {},
   "outputs": [
    {
     "data": {
      "text/plain": [
       "Text(50.722222222222214, 0.5, 'Truth')"
      ]
     },
     "execution_count": 27,
     "metadata": {},
     "output_type": "execute_result"
    },
    {
     "data": {
      "image/png": "[encoded data removed]",
      "text/plain": [
       "<Figure size 640x480 with 2 Axes>"
      ]
     },
     "metadata": {},
     "output_type": "display_data"
    }
   ],
   "source": [
    "import matplotlib.pyplot as plt\n",
    "cf=confusion_matrix(level_img,predicted_lev)\n",
    "sn.heatmap(cf,annot=True)\n",
    "plt.xlabel(\"predicted\")\n",
    "plt.ylabel(\"Truth\")"
   ]
  },
  {
   "cell_type": "code",
   "execution_count": null,
   "id": "972f4153",
   "metadata": {},
   "outputs": [],
   "source": []
  }
 ],
 "metadata": {
  "kernelspec": {
   "display_name": "Python 3 (ipykernel)",
   "language": "python",
   "name": "python3"
  },
  "language_info": {
   "codemirror_mode": {
    "name": "ipython",
    "version": 3
   },
   "file_extension": ".py",
   "mimetype": "text/x-python",
   "name": "python",
   "nbconvert_exporter": "python",
   "pygments_lexer": "ipython3",
   "version": "3.9.7"
  }
 },
 "nbformat": 4,
 "nbformat_minor": 5
}
